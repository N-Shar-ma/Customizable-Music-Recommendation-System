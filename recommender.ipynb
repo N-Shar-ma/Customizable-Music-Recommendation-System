{
 "cells": [
  {
   "cell_type": "code",
   "execution_count": null,
   "metadata": {},
   "outputs": [],
   "source": [
    "%pip install numpy\n",
    "%pip install pandas\n",
    "%pip install sklearn"
   ]
  },
  {
   "cell_type": "code",
   "execution_count": null,
   "metadata": {},
   "outputs": [],
   "source": [
    "import pandas as pd\n",
    "import numpy as np"
   ]
  },
  {
   "cell_type": "code",
   "execution_count": null,
   "metadata": {},
   "outputs": [],
   "source": [
    "data = pd.read_csv('spotify_songs.csv')\n",
    "data = data[data['language'] == 'en']\n",
    "data.drop(columns=['language', 'playlist_name', 'playlist_id'], axis=1, inplace=True)\n",
    "data = data.drop_duplicates(subset=['track_name', 'track_artist'])\n",
    "data.reset_index(drop=True, inplace=True)\n",
    "print(data.columns)"
   ]
  },
  {
   "cell_type": "code",
   "execution_count": null,
   "metadata": {},
   "outputs": [],
   "source": [
    "# lyrical_data = data[['track_id', 'lyrics']]\n",
    "sonic_data = data[['track_id', 'playlist_genre', 'playlist_subgenre', 'danceability', 'energy', 'key', 'loudness', 'mode', 'speechiness', 'acousticness', 'instrumentalness', 'liveness', 'valence', 'tempo']]"
   ]
  },
  {
   "cell_type": "code",
   "execution_count": null,
   "metadata": {},
   "outputs": [],
   "source": [
    "from sklearn.feature_extraction.text import TfidfVectorizer\n",
    "from sklearn.metrics.pairwise import cosine_similarity\n",
    "\n",
    "my_tfidf_vectorizer = TfidfVectorizer(stop_words='english')\n",
    "lyrics_data = my_tfidf_vectorizer.fit_transform(data['lyrics'])\n",
    "lyric_similarity_matrix = cosine_similarity(lyrics_data)"
   ]
  },
  {
   "cell_type": "code",
   "execution_count": null,
   "metadata": {},
   "outputs": [],
   "source": [
    "def sort_by_popularity(songs, descending=True):\n",
    "    if descending:\n",
    "        return songs.sort_values(by=['track_popularity'])[::-1]\n",
    "    else:\n",
    "        return songs.sort_values(by=['track_popularity'])\n"
   ]
  },
  {
   "cell_type": "code",
   "execution_count": null,
   "metadata": {},
   "outputs": [],
   "source": [
    "def get_by_same_artist(track_index, count):\n",
    "    return data[data['track_artist'] == data.iloc[track_index]['track_artist']].drop(track_index)[:count]\n",
    "\n",
    "get_by_same_artist(2014)"
   ]
  },
  {
   "cell_type": "code",
   "execution_count": null,
   "metadata": {},
   "outputs": [],
   "source": [
    "def recommend_by_same_artist(track_index, count=10, prioritisePopular=True):\n",
    "    songs_by_same_artist = get_by_same_artist(track_index, count)\n",
    "    return sort_by_popularity(songs_by_same_artist, prioritisePopular)\n",
    "\n",
    "recommend_by_same_artist(994)"
   ]
  },
  {
   "cell_type": "code",
   "execution_count": null,
   "metadata": {},
   "outputs": [],
   "source": [
    "def get_lyrically_similar(track_index, count):\n",
    "    similar_songs_indexes = np.argsort(np.array(lyric_similarity_matrix[track_index]))[::-1][1:count+1]\n",
    "    return data.iloc[similar_songs_indexes]"
   ]
  },
  {
   "cell_type": "code",
   "execution_count": null,
   "metadata": {},
   "outputs": [],
   "source": [
    "def recommend_lyrically_similar(track_index, count=10, prioritisePopular=True):\n",
    "    similar_songs = get_lyrically_similar(track_index, count)\n",
    "    return sort_by_popularity(similar_songs, prioritisePopular)\n",
    "\n",
    "recommend_lyrically_similar(13018)"
   ]
  },
  {
   "cell_type": "code",
   "execution_count": null,
   "metadata": {},
   "outputs": [],
   "source": [
    "data[data['track_artist'] == 'Taylor Swift']"
   ]
  }
 ],
 "metadata": {
  "interpreter": {
   "hash": "369f2c481f4da34e4445cda3fffd2e751bd1c4d706f27375911949ba6bb62e1c"
  },
  "kernelspec": {
   "display_name": "Python 3.10.1 64-bit",
   "language": "python",
   "name": "python3"
  },
  "language_info": {
   "codemirror_mode": {
    "name": "ipython",
    "version": 3
   },
   "file_extension": ".py",
   "mimetype": "text/x-python",
   "name": "python",
   "nbconvert_exporter": "python",
   "pygments_lexer": "ipython3",
   "version": "3.10.1"
  },
  "orig_nbformat": 4
 },
 "nbformat": 4,
 "nbformat_minor": 2
}
