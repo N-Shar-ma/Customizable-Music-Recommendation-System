{
 "cells": [
  {
   "cell_type": "markdown",
   "metadata": {},
   "source": [
    "Installing all needed libraries"
   ]
  },
  {
   "cell_type": "code",
   "execution_count": null,
   "metadata": {},
   "outputs": [],
   "source": [
    "%pip install numpy\n",
    "%pip install pandas\n",
    "%pip install sklearn\n",
    "%pip install seaborn"
   ]
  },
  {
   "cell_type": "markdown",
   "metadata": {},
   "source": [
    "Importing the installed libraries"
   ]
  },
  {
   "cell_type": "code",
   "execution_count": null,
   "metadata": {},
   "outputs": [],
   "source": [
    "import pandas as pd\n",
    "import numpy as np\n",
    "import seaborn as sb"
   ]
  },
  {
   "cell_type": "markdown",
   "metadata": {},
   "source": [
    "Reading and preprocessing the music data "
   ]
  },
  {
   "cell_type": "code",
   "execution_count": null,
   "metadata": {},
   "outputs": [],
   "source": [
    "data = pd.read_csv('spotify_songs.csv')\n",
    "data = data[data['language'] == 'en']\n",
    "data.drop(columns=['language', 'playlist_name', 'playlist_id'], inplace=True)\n",
    "data = data.drop_duplicates(subset=['track_name', 'track_artist'])\n",
    "data.reset_index(drop=True, inplace=True)\n",
    "print(data.columns)\n",
    "print(data.shape)"
   ]
  },
  {
   "cell_type": "markdown",
   "metadata": {},
   "source": [
    "Sectioning off data for recommendation subsystems"
   ]
  },
  {
   "cell_type": "code",
   "execution_count": null,
   "metadata": {},
   "outputs": [],
   "source": [
    "lyrics_data = data['lyrics']\n",
    "energy_data = data[['danceability', 'tempo', 'acousticness']]\n",
    "mood_data = data[['mode', 'key', 'valence']]"
   ]
  },
  {
   "cell_type": "markdown",
   "metadata": {},
   "source": [
    "Using cosine similarity and Tfidf for making lyrics comparable"
   ]
  },
  {
   "cell_type": "code",
   "execution_count": null,
   "metadata": {},
   "outputs": [],
   "source": [
    "from sklearn.feature_extraction.text import TfidfVectorizer\n",
    "from sklearn.metrics.pairwise import cosine_similarity\n",
    "\n",
    "lyric_vectorizer = TfidfVectorizer(stop_words='english')\n",
    "lyrics_data = lyric_vectorizer.fit_transform(lyrics_data)\n",
    "lyric_similarity_matrix = cosine_similarity(lyrics_data)"
   ]
  },
  {
   "cell_type": "markdown",
   "metadata": {},
   "source": [
    "Using euclidean distance for making energy and mood comparable"
   ]
  },
  {
   "cell_type": "code",
   "execution_count": null,
   "metadata": {},
   "outputs": [],
   "source": [
    "from sklearn.metrics.pairwise import euclidean_distances\n",
    "\n",
    "energy_difference_matrix = euclidean_distances(energy_data)\n",
    "mood_difference_matrix = euclidean_distances(mood_data)"
   ]
  },
  {
   "cell_type": "markdown",
   "metadata": {},
   "source": [
    "Utility functions"
   ]
  },
  {
   "cell_type": "code",
   "execution_count": null,
   "metadata": {},
   "outputs": [],
   "source": [
    "def sort_by_popularity(songs, descending=True):\n",
    "    if descending:\n",
    "        return songs.sort_values(by=['track_popularity'])[::-1]\n",
    "    else:\n",
    "        return songs.sort_values(by=['track_popularity'])\n",
    "\n",
    "\n",
    "def get_similar(track_index, count, comparison_matrix, select_smallest):\n",
    "    similar_songs_indexes = np.argsort(np.array(comparison_matrix[track_index]))\n",
    "    similar_songs_indexes = np.delete(similar_songs_indexes, np.where(similar_songs_indexes == track_index))\n",
    "    similar_songs_indexes = similar_songs_indexes[:count] if select_smallest else similar_songs_indexes[::-1][:count]\n",
    "    return data.iloc[similar_songs_indexes]\n",
    "\n",
    "# def get_by_era(track_index)"
   ]
  },
  {
   "cell_type": "markdown",
   "metadata": {},
   "source": [
    "Getters for recommendation subsystems"
   ]
  },
  {
   "cell_type": "code",
   "execution_count": null,
   "metadata": {},
   "outputs": [],
   "source": [
    "def get_by_same_artist(track_index, count):\n",
    "    return data[data['track_artist'] == data.iloc[track_index]['track_artist']].drop(track_index)[:count]\n",
    "\n",
    "\n",
    "def get_lyrically_similar(track_index, count):\n",
    "    return get_similar(track_index, count, lyric_similarity_matrix, False)\n",
    "\n",
    "\n",
    "def get_energy_similar(track_index, count):\n",
    "    return get_similar(track_index, count, energy_difference_matrix, True)\n",
    "\n",
    "\n",
    "def get_mood_similar(track_index, count):\n",
    "    return get_similar(track_index, count, mood_difference_matrix, True)\n",
    "\n",
    "\n",
    "def get_random(count):\n",
    "    return data.sample(count)"
   ]
  },
  {
   "cell_type": "markdown",
   "metadata": {},
   "source": [
    "Recommendation subsytems"
   ]
  },
  {
   "cell_type": "code",
   "execution_count": null,
   "metadata": {},
   "outputs": [],
   "source": [
    "def recommend_by_same_artist(track_index, count=10, prioritisePopular=True):\n",
    "    songs_by_same_artist = get_by_same_artist(track_index, count)\n",
    "    return sort_by_popularity(songs_by_same_artist, prioritisePopular)\n",
    "\n",
    "\n",
    "def recommend_lyrically_similar(track_index, count=10, prioritisePopular=True):\n",
    "    similar_songs = get_lyrically_similar(track_index, count)\n",
    "    return sort_by_popularity(similar_songs, prioritisePopular)\n",
    "\n",
    "\n",
    "def recommend_energy_similar(track_index, count=10, prioritisePopular=True):\n",
    "    similar_songs = get_energy_similar(track_index, count)\n",
    "    return sort_by_popularity(similar_songs, prioritisePopular)\n",
    "\n",
    "\n",
    "def recommend_mood_similar(track_index, count=10, prioritisePopular=True):\n",
    "    similar_songs = get_mood_similar(track_index, count)\n",
    "    return sort_by_popularity(similar_songs, prioritisePopular)\n",
    "\n",
    "\n",
    "def recommend_random(count=10, prioritisePopular=True):\n",
    "    random_songs = get_random(count)\n",
    "    return sort_by_popularity(random_songs, prioritisePopular)"
   ]
  },
  {
   "cell_type": "markdown",
   "metadata": {},
   "source": [
    "Hybrid recommendation system"
   ]
  },
  {
   "cell_type": "code",
   "execution_count": null,
   "metadata": {},
   "outputs": [],
   "source": [
    "def recommend(track_index, count=10, prioritisePopular=True):\n",
    "    by_same_artist = recommend_by_same_artist(track_index, count, prioritisePopular)\n",
    "    lyrically_similar = recommend_lyrically_similar(track_index, count, prioritisePopular)\n",
    "    energy_similar = recommend_energy_similar(track_index, count, prioritisePopular)\n",
    "    mood_similar = recommend_mood_similar(track_index, count, prioritisePopular)\n",
    "    random = recommend_random(count, prioritisePopular)\n",
    "    # return object how"
   ]
  },
  {
   "cell_type": "code",
   "execution_count": 50,
   "metadata": {},
   "outputs": [
    {
     "data": {
      "text/plain": [
       "<seaborn.axisgrid.FacetGrid at 0x24eb8c76fe0>"
      ]
     },
     "execution_count": 50,
     "metadata": {},
     "output_type": "execute_result"
    },
    {
     "data": {
      "image/png": "[encoded data removed]",
      "text/plain": [
       "<Figure size 360x360 with 1 Axes>"
      ]
     },
     "metadata": {
      "needs_background": "light"
     },
     "output_type": "display_data"
    }
   ],
   "source": [
    "# testing / visualization\n",
    "data[data['track_artist'] == 'Taylor Swift']\n",
    "\n",
    "# data.iloc[2274]\n",
    "\n",
    "data['track_album_release_date'] = pd.to_datetime(data['track_album_release_date'], infer_datetime_format=True)\n",
    "data['track_album_release_date']\n",
    "sb.displot(data=data, x='track_album_release_date')\n",
    "# data[data['track_artist'] == 'Queen'].head(30)\n",
    "# sonic_data.describe()\n",
    "\n",
    "# data['track_artist'].value_counts()"
   ]
  }
 ],
 "metadata": {
  "interpreter": {
   "hash": "369f2c481f4da34e4445cda3fffd2e751bd1c4d706f27375911949ba6bb62e1c"
  },
  "kernelspec": {
   "display_name": "Python 3.10.1 64-bit",
   "language": "python",
   "name": "python3"
  },
  "language_info": {
   "codemirror_mode": {
    "name": "ipython",
    "version": 3
   },
   "file_extension": ".py",
   "mimetype": "text/x-python",
   "name": "python",
   "nbconvert_exporter": "python",
   "pygments_lexer": "ipython3",
   "version": "3.10.1"
  },
  "orig_nbformat": 4
 },
 "nbformat": 4,
 "nbformat_minor": 2
}
